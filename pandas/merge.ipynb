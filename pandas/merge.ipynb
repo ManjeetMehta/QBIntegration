{
  "nbformat": 4,
  "nbformat_minor": 0,
  "metadata": {
    "colab": {
      "name": "Untitled2.ipynb",
      "provenance": [],
      "authorship_tag": "ABX9TyOM4+03RxWLndKOXU2HE0YB",
      "include_colab_link": true
    },
    "kernelspec": {
      "name": "python3",
      "display_name": "Python 3"
    }
  },
  "cells": [
    {
      "cell_type": "markdown",
      "metadata": {
        "id": "view-in-github",
        "colab_type": "text"
      },
      "source": [
        "<a href=\"https://colab.research.google.com/github/ManjeetMehta/QBIntegration/blob/master/pandas/merge.ipynb\" target=\"_parent\"><img src=\"https://colab.research.google.com/assets/colab-badge.svg\" alt=\"Open In Colab\"/></a>"
      ]
    },
    {
      "cell_type": "code",
      "metadata": {
        "id": "1ItzYrYr8xPw",
        "colab_type": "code",
        "colab": {
          "base_uri": "https://localhost:8080/",
          "height": 168
        },
        "outputId": "711ba143-c05f-44a5-948f-901affdab89e"
      },
      "source": [
        "import pandas as pd\n",
        "\n",
        "sr1= pd.Series([0,1,2,3,4])\n",
        "#print(sr1)\n",
        "\n",
        "sr2= pd.Series([5,6,7,8])\n",
        "#print(sr2)\n",
        "\n",
        "sr3= pd.concat([sr1, sr2])\n",
        "#print(sr3)\n",
        "\n",
        "df1= pd.DataFrame({'ID': [1,2,3,4], 'Name' : ['A','B','C','D'], 'class' : [5,6,7,8]})\n",
        "#print(df1)\n",
        "\n",
        "df2= pd.DataFrame({'ID': [5,6,7,8], 'Name' : ['E','F','G','H'], 'class' : [9,10,11,12]})\n",
        "#print(df2)\n",
        "\n",
        "df3= pd.concat([df1, df2], axis= 0)\n",
        "#print(df3)\n",
        "\n",
        "df4= pd.concat([df1, df2], axis= 1)\n",
        "#print(df4)\n",
        "\n",
        "df5= pd.concat([df1, df2], axis= 0, ignore_index= True)\n",
        "print(df5)\n"
      ],
      "execution_count": 13,
      "outputs": [
        {
          "output_type": "stream",
          "text": [
            "   ID Name  class\n",
            "0   1    A      5\n",
            "1   2    B      6\n",
            "2   3    C      7\n",
            "3   4    D      8\n",
            "4   5    E      9\n",
            "5   6    F     10\n",
            "6   7    G     11\n",
            "7   8    H     12\n"
          ],
          "name": "stdout"
        }
      ]
    }
  ]
}